{
  "nbformat": 4,
  "nbformat_minor": 0,
  "metadata": {
    "colab": {
      "provenance": [],
      "gpuType": "T4"
    },
    "kernelspec": {
      "name": "python3",
      "display_name": "Python 3"
    },
    "language_info": {
      "name": "python"
    },
    "accelerator": "GPU"
  },
  "cells": [
    {
      "cell_type": "markdown",
      "source": [
        "# **Hospital Readmission Tracker**"
      ],
      "metadata": {
        "id": "9F7RFQCPu1d6"
      }
    },
    {
      "cell_type": "markdown",
      "source": [
        "**🔹 Installing Required Library (CatBoost)**"
      ],
      "metadata": {
        "id": "KdZl-H10KFc2"
      }
    },
    {
      "cell_type": "code",
      "source": [
        "%pip install catboost"
      ],
      "metadata": {
        "colab": {
          "base_uri": "https://localhost:8080/"
        },
        "id": "Ph16MWvujFf9",
        "outputId": "29b7d019-ce04-479f-a7e8-f21fe04446d7"
      },
      "execution_count": null,
      "outputs": [
        {
          "output_type": "stream",
          "name": "stdout",
          "text": [
            "Requirement already satisfied: catboost in /usr/local/lib/python3.12/dist-packages (1.2.8)\n",
            "Requirement already satisfied: graphviz in /usr/local/lib/python3.12/dist-packages (from catboost) (0.21)\n",
            "Requirement already satisfied: matplotlib in /usr/local/lib/python3.12/dist-packages (from catboost) (3.10.0)\n",
            "Requirement already satisfied: numpy<3.0,>=1.16.0 in /usr/local/lib/python3.12/dist-packages (from catboost) (2.0.2)\n",
            "Requirement already satisfied: pandas>=0.24 in /usr/local/lib/python3.12/dist-packages (from catboost) (2.2.2)\n",
            "Requirement already satisfied: scipy in /usr/local/lib/python3.12/dist-packages (from catboost) (1.16.1)\n",
            "Requirement already satisfied: plotly in /usr/local/lib/python3.12/dist-packages (from catboost) (5.24.1)\n",
            "Requirement already satisfied: six in /usr/local/lib/python3.12/dist-packages (from catboost) (1.17.0)\n",
            "Requirement already satisfied: python-dateutil>=2.8.2 in /usr/local/lib/python3.12/dist-packages (from pandas>=0.24->catboost) (2.9.0.post0)\n",
            "Requirement already satisfied: pytz>=2020.1 in /usr/local/lib/python3.12/dist-packages (from pandas>=0.24->catboost) (2025.2)\n",
            "Requirement already satisfied: tzdata>=2022.7 in /usr/local/lib/python3.12/dist-packages (from pandas>=0.24->catboost) (2025.2)\n",
            "Requirement already satisfied: contourpy>=1.0.1 in /usr/local/lib/python3.12/dist-packages (from matplotlib->catboost) (1.3.3)\n",
            "Requirement already satisfied: cycler>=0.10 in /usr/local/lib/python3.12/dist-packages (from matplotlib->catboost) (0.12.1)\n",
            "Requirement already satisfied: fonttools>=4.22.0 in /usr/local/lib/python3.12/dist-packages (from matplotlib->catboost) (4.59.1)\n",
            "Requirement already satisfied: kiwisolver>=1.3.1 in /usr/local/lib/python3.12/dist-packages (from matplotlib->catboost) (1.4.9)\n",
            "Requirement already satisfied: packaging>=20.0 in /usr/local/lib/python3.12/dist-packages (from matplotlib->catboost) (25.0)\n",
            "Requirement already satisfied: pillow>=8 in /usr/local/lib/python3.12/dist-packages (from matplotlib->catboost) (11.3.0)\n",
            "Requirement already satisfied: pyparsing>=2.3.1 in /usr/local/lib/python3.12/dist-packages (from matplotlib->catboost) (3.2.3)\n",
            "Requirement already satisfied: tenacity>=6.2.0 in /usr/local/lib/python3.12/dist-packages (from plotly->catboost) (8.5.0)\n"
          ]
        }
      ]
    },
    {
      "cell_type": "markdown",
      "source": [
        "**🔹 Importing Libraries and Dependencies**"
      ],
      "metadata": {
        "id": "ysEg0maoNYsJ"
      }
    },
    {
      "cell_type": "code",
      "source": [
        "import pandas as pd\n",
        "import numpy as np\n",
        "from sklearn.model_selection import train_test_split\n",
        "from sklearn.preprocessing import LabelEncoder, StandardScaler\n",
        "from sklearn.impute import SimpleImputer\n",
        "from sklearn.metrics import classification_report, confusion_matrix, accuracy_score, roc_auc_score, f1_score\n",
        "from catboost import CatBoostClassifier\n",
        "import joblib"
      ],
      "metadata": {
        "id": "rac6fQXVjwuI"
      },
      "execution_count": null,
      "outputs": []
    },
    {
      "cell_type": "markdown",
      "source": [
        "**Step 1: Load the Dataset**"
      ],
      "metadata": {
        "id": "ZddHHaTtOAqS"
      }
    },
    {
      "cell_type": "code",
      "source": [
        "# --- Step 1: Load dataset ---\n",
        "data = pd.read_csv(\"/content/MIMIC - III Patient Dataset.csv\")"
      ],
      "metadata": {
        "id": "pvD3MrbBj1Mm"
      },
      "execution_count": null,
      "outputs": []
    },
    {
      "cell_type": "markdown",
      "source": [
        "**Step 2: Extract and Transform Blood Pressure**"
      ],
      "metadata": {
        "id": "lpgFuv0qOFS_"
      }
    },
    {
      "cell_type": "code",
      "source": [
        "# --- Step 2: Process blood pressure ---\n",
        "data['systolic'] = data['blood_pressure'].map(lambda x: int(x.split('/')[0]))\n",
        "data['diastolic'] = data['blood_pressure'].map(lambda x: int(x.split('/')[1]))\n",
        "data['pulse_pressure'] = data['systolic'] - data['diastolic']\n",
        "data.drop(columns=[\"blood_pressure\"], inplace=True)"
      ],
      "metadata": {
        "id": "KS0ate7Ij7ze"
      },
      "execution_count": null,
      "outputs": []
    },
    {
      "cell_type": "markdown",
      "source": [
        "**Step 3: BMI Categories**"
      ],
      "metadata": {
        "id": "1MF2WkF7OxsP"
      }
    },
    {
      "cell_type": "code",
      "source": [
        "# --- Step 3: Keep BMI continuous + add categories ---\n",
        "def bmi_category(bmi):\n",
        "    bmi = float(bmi)\n",
        "    if bmi < 18.5: return 0\n",
        "    elif 18.5 <= bmi <= 24.9: return 1\n",
        "    elif 25 <= bmi <= 29.9: return 2\n",
        "    else: return 3\n",
        "data['bmi_category'] = data['bmi'].map(bmi_category)"
      ],
      "metadata": {
        "id": "RzKJ21klkAXs"
      },
      "execution_count": null,
      "outputs": []
    },
    {
      "cell_type": "markdown",
      "source": [
        "**Step 4: High Cholesterol Indicator**"
      ],
      "metadata": {
        "id": "h2T4ieoBPD4y"
      }
    },
    {
      "cell_type": "code",
      "source": [
        "# --- Step 4: Cholesterol (binary high risk) ---\n",
        "data['high_cholesterol'] = (data['cholesterol'].astype(float) > 200).astype(int)"
      ],
      "metadata": {
        "id": "bv85O4H7kEnQ"
      },
      "execution_count": null,
      "outputs": []
    },
    {
      "cell_type": "markdown",
      "source": [
        "**Step 5: Encode Categorical Variables**"
      ],
      "metadata": {
        "id": "qALWtSi7PMBt"
      }
    },
    {
      "cell_type": "code",
      "source": [
        "# --- Step 5: Encode categorical variables ---\n",
        "# discharge_destination needs one-hot encoding for better signal\n",
        "data = pd.get_dummies(data, columns=['discharge_destination'], drop_first=True)"
      ],
      "metadata": {
        "id": "XW8zyX3skJ3w"
      },
      "execution_count": null,
      "outputs": []
    },
    {
      "cell_type": "code",
      "source": [
        "# Encode gender, diabetes, hypertension\n",
        "for col in ['gender', 'diabetes', 'hypertension']:\n",
        "    data[col] = LabelEncoder().fit_transform(data[col].astype(str))"
      ],
      "metadata": {
        "id": "03evYxM8kNsE"
      },
      "execution_count": null,
      "outputs": []
    },
    {
      "cell_type": "markdown",
      "source": [
        "**Step 6: Feature Engineering**"
      ],
      "metadata": {
        "id": "LUQajLz5PcBA"
      }
    },
    {
      "cell_type": "code",
      "source": [
        "# --- Step 6: Feature engineering ---\n",
        "data['high_risk_age'] = (data['age'] >= 70).astype(int)\n",
        "data['polypharmacy'] = (data['medication_count'] >= 5).astype(int)\n",
        "data['long_stay'] = (data['length_of_stay'] > 14).astype(int)\n",
        "data['multi_comorbidity'] = ((data['diabetes'] == 1) & (data['hypertension'] == 1)).astype(int)\n",
        "data['age_bmi'] = data['age'] * data['bmi']\n",
        "data['stay_meds'] = data['length_of_stay'] * data['medication_count']\n"
      ],
      "metadata": {
        "id": "foOEBedCkQ9J"
      },
      "execution_count": null,
      "outputs": []
    },
    {
      "cell_type": "markdown",
      "source": [
        "**Step 7: Define Features and Target**"
      ],
      "metadata": {
        "id": "LHTrfPDyPmIJ"
      }
    },
    {
      "cell_type": "code",
      "source": [
        "# --- Step 7: Define features and target ---\n",
        "target = 'readmitted_30_days'\n",
        "features = [col for col in data.columns if col != target]\n",
        "X = data[features]\n",
        "y = data[target]"
      ],
      "metadata": {
        "id": "-BNz7qHYkUw6"
      },
      "execution_count": null,
      "outputs": []
    },
    {
      "cell_type": "markdown",
      "source": [
        "**Step 8: Handle Missing Values**"
      ],
      "metadata": {
        "id": "dDmo2ZsoPtXC"
      }
    },
    {
      "cell_type": "code",
      "source": [
        "# --- Step 8: Handle missing values ---\n",
        "imputer = SimpleImputer(strategy='median')\n",
        "X = pd.DataFrame(imputer.fit_transform(X), columns=features)"
      ],
      "metadata": {
        "id": "lF5u4o5Skat1"
      },
      "execution_count": null,
      "outputs": []
    },
    {
      "cell_type": "markdown",
      "source": [
        "**Step 9: Train-Test Split**"
      ],
      "metadata": {
        "id": "JTgpR0oyP1uQ"
      }
    },
    {
      "cell_type": "code",
      "source": [
        "# --- Step 9: Train-test split ---\n",
        "X_train, X_test, y_train, y_test = train_test_split(\n",
        "    X, y, test_size=0.2, random_state=42, stratify=y\n",
        ")"
      ],
      "metadata": {
        "id": "SfNwRUkKkbhV"
      },
      "execution_count": null,
      "outputs": []
    },
    {
      "cell_type": "markdown",
      "source": [
        "**Step 10: Feature Scaling**"
      ],
      "metadata": {
        "id": "V9Xo9wNIQR7t"
      }
    },
    {
      "cell_type": "code",
      "source": [
        "# --- Step 10: Scale features (optional for CatBoost, but good practice) ---\n",
        "scaler = StandardScaler()\n",
        "X_train = scaler.fit_transform(X_train)\n",
        "X_test = scaler.transform(X_test)"
      ],
      "metadata": {
        "id": "JPir5axHkgat"
      },
      "execution_count": null,
      "outputs": []
    },
    {
      "cell_type": "markdown",
      "source": [
        "**Step 11: Train CatBoost Model**"
      ],
      "metadata": {
        "id": "JJAKNpLiQUBn"
      }
    },
    {
      "cell_type": "code",
      "source": [
        "# --- Step 11: Train CatBoost model ---\n",
        "cat_model = CatBoostClassifier(\n",
        "    iterations=1000,\n",
        "    learning_rate=0.03,\n",
        "    depth=8,\n",
        "    eval_metric=\"F1\",\n",
        "    random_seed=42,\n",
        "    verbose=False,\n",
        "    early_stopping_rounds=50,\n",
        "    class_weights=[1, (y_train.value_counts()[0] / y_train.value_counts()[1])]\n",
        ")\n",
        "\n",
        "cat_model.fit(X_train, y_train, eval_set=(X_test, y_test))"
      ],
      "metadata": {
        "colab": {
          "base_uri": "https://localhost:8080/"
        },
        "id": "vMx3F43QlDAx",
        "outputId": "2d7e9b4f-0343-42ee-d1c1-bed1c56613e7"
      },
      "execution_count": null,
      "outputs": [
        {
          "output_type": "execute_result",
          "data": {
            "text/plain": [
              "<catboost.core.CatBoostClassifier at 0x7a80091651f0>"
            ]
          },
          "metadata": {},
          "execution_count": 32
        }
      ]
    },
    {
      "cell_type": "markdown",
      "source": [
        "**Step 12: Evaluate Model**"
      ],
      "metadata": {
        "id": "P_ZvTX_wQmET"
      }
    },
    {
      "cell_type": "code",
      "source": [
        "# --- Step 12: Evaluate model ---\n",
        "y_prob = cat_model.predict_proba(X_test)[:, 1]\n",
        "y_pred = (y_prob >= 0.5).astype(int)\n",
        "\n",
        "print(\"Accuracy (default 0.5 threshold):\", accuracy_score(y_test, y_pred))\n",
        "print(\"ROC AUC:\", roc_auc_score(y_test, y_prob))\n",
        "print(\"F1-score:\", f1_score(y_test, y_pred))\n",
        "print(\"Classification Report:\\n\", classification_report(y_test, y_pred))\n",
        "print(\"Confusion Matrix:\\n\", confusion_matrix(y_test, y_pred))\n",
        "\n",
        "# --- Step 13: Optimize threshold ---\n",
        "thresholds = np.arange(0.3, 0.7, 0.01)\n",
        "best_acc, best_th = 0, 0\n",
        "\n",
        "for th in thresholds:\n",
        "    preds = (y_prob >= th).astype(int)\n",
        "    acc = accuracy_score(y_test, preds)\n",
        "    if acc > best_acc:\n",
        "        best_acc, best_th = acc, th\n",
        "\n",
        "print(\"\\nBest Accuracy:\", best_acc, \"at threshold:\", best_th)\n",
        "\n",
        "# Recalculate metrics with optimized threshold\n",
        "y_pred_opt = (y_prob >= best_th).astype(int)\n",
        "print(\"F1-score (optimized):\", f1_score(y_test, y_pred_opt))\n",
        "print(\"Classification Report (optimized):\\n\", classification_report(y_test, y_pred_opt))\n",
        "print(\"Confusion Matrix (optimized):\\n\", confusion_matrix(y_test, y_pred_opt))"
      ],
      "metadata": {
        "colab": {
          "base_uri": "https://localhost:8080/"
        },
        "id": "Bf1YYarBlXQZ",
        "outputId": "10bcd9ee-c7ee-4931-d7e7-c1ce38e5a527"
      },
      "execution_count": null,
      "outputs": [
        {
          "output_type": "stream",
          "name": "stdout",
          "text": [
            "Accuracy (default 0.5 threshold): 0.8231666666666667\n",
            "ROC AUC: 0.8340513950626357\n",
            "F1-score: 0.7685932388222465\n",
            "Classification Report:\n",
            "               precision    recall  f1-score   support\n",
            "\n",
            "           0       0.90      0.82      0.86      3891\n",
            "           1       0.71      0.84      0.77      2109\n",
            "\n",
            "    accuracy                           0.82      6000\n",
            "   macro avg       0.81      0.83      0.81      6000\n",
            "weighted avg       0.83      0.82      0.83      6000\n",
            "\n",
            "Confusion Matrix:\n",
            " [[3177  714]\n",
            " [ 347 1762]]\n",
            "\n",
            "Best Accuracy: 0.8233333333333334 at threshold: 0.5500000000000003\n",
            "F1-score (optimized): 0.7686599738105631\n",
            "Classification Report (optimized):\n",
            "               precision    recall  f1-score   support\n",
            "\n",
            "           0       0.90      0.82      0.86      3891\n",
            "           1       0.71      0.83      0.77      2109\n",
            "\n",
            "    accuracy                           0.82      6000\n",
            "   macro avg       0.81      0.83      0.81      6000\n",
            "weighted avg       0.83      0.82      0.83      6000\n",
            "\n",
            "Confusion Matrix (optimized):\n",
            " [[3179  712]\n",
            " [ 348 1761]]\n"
          ]
        }
      ]
    },
    {
      "cell_type": "markdown",
      "source": [
        "**Step 14: Save Model and Preprocessing Objects**"
      ],
      "metadata": {
        "id": "aOoQ9sGTTreK"
      }
    },
    {
      "cell_type": "code",
      "source": [
        "# --- Step 14: Save model, scaler, and imputer ---\n",
        "joblib.dump(cat_model, \"readmission_catboost_model.pkl\")\n",
        "joblib.dump(scaler, \"scaler.pkl\")\n",
        "joblib.dump(imputer, \"imputer.pkl\")"
      ],
      "metadata": {
        "colab": {
          "base_uri": "https://localhost:8080/"
        },
        "id": "-aRvrnw-mBr2",
        "outputId": "2c1a1284-559a-4de3-b3a5-cdd416327e42"
      },
      "execution_count": null,
      "outputs": [
        {
          "output_type": "execute_result",
          "data": {
            "text/plain": [
              "['imputer.pkl']"
            ]
          },
          "metadata": {},
          "execution_count": 34
        }
      ]
    },
    {
      "cell_type": "markdown",
      "source": [
        "**Import Libraries**"
      ],
      "metadata": {
        "id": "tdbv587DT0Fq"
      }
    },
    {
      "cell_type": "code",
      "source": [
        "import pandas as pd\n",
        "import joblib\n",
        "import numpy as np\n",
        "from sklearn.preprocessing import LabelEncoder"
      ],
      "metadata": {
        "id": "AI9QtvPxmIMj"
      },
      "execution_count": null,
      "outputs": []
    },
    {
      "cell_type": "markdown",
      "source": [
        "**Load Saved Model and Preprocessing Objects**"
      ],
      "metadata": {
        "id": "IkKr4zhRUAEI"
      }
    },
    {
      "cell_type": "code",
      "source": [
        "# Load saved model, scaler, and imputer\n",
        "cat_model = joblib.load(\"readmission_catboost_model.pkl\")\n",
        "scaler = joblib.load(\"scaler.pkl\")\n",
        "imputer = joblib.load(\"imputer.pkl\")"
      ],
      "metadata": {
        "id": "4LndumgdmLGF"
      },
      "execution_count": null,
      "outputs": []
    },
    {
      "cell_type": "markdown",
      "source": [
        "**Create Sample Patient Data**"
      ],
      "metadata": {
        "id": "wbD_3iVdUOjj"
      }
    },
    {
      "cell_type": "code",
      "source": [
        "# Generate diverse sample patients\n",
        "sample_patients = pd.DataFrame([\n",
        "    {\n",
        "        # High-risk patient (likely readmitted)\n",
        "        \"age\": 78,\n",
        "        \"gender\": \"Male\",\n",
        "        \"bmi\": 35.1,\n",
        "        \"cholesterol\": 255,\n",
        "        \"blood_pressure\": \"160/100\",\n",
        "        \"diabetes\": \"Yes\",\n",
        "        \"hypertension\": \"Yes\",\n",
        "        \"medication_count\": 10,\n",
        "        \"length_of_stay\": 20,\n",
        "        \"discharge_destination\": \"Nursing_Facility\"\n",
        "    },\n",
        "    {\n",
        "        # Low-risk patient (likely not readmitted)\n",
        "        \"age\": 45,\n",
        "        \"gender\": \"Female\",\n",
        "        \"bmi\": 22.5,\n",
        "        \"cholesterol\": 175,\n",
        "        \"blood_pressure\": \"115/75\",\n",
        "        \"diabetes\": \"No\",\n",
        "        \"hypertension\": \"No\",\n",
        "        \"medication_count\": 2,\n",
        "        \"length_of_stay\": 4,\n",
        "        \"discharge_destination\": \"Home\"\n",
        "    },\n",
        "    {\n",
        "        # Medium-risk patient\n",
        "        \"age\": 60,\n",
        "        \"gender\": \"Male\",\n",
        "        \"bmi\": 28.0,\n",
        "        \"cholesterol\": 210,\n",
        "        \"blood_pressure\": \"135/85\",\n",
        "        \"diabetes\": \"Yes\",\n",
        "        \"hypertension\": \"No\",\n",
        "        \"medication_count\": 5,\n",
        "        \"length_of_stay\": 8,\n",
        "        \"discharge_destination\": \"Home\"\n",
        "    },\n",
        "    {\n",
        "        # Another high-risk patient with different profile\n",
        "        \"age\": 85,\n",
        "        \"gender\": \"Female\",\n",
        "        \"bmi\": 29.8,\n",
        "        \"cholesterol\": 190,\n",
        "        \"blood_pressure\": \"140/90\",\n",
        "        \"diabetes\": \"No\",\n",
        "        \"hypertension\": \"Yes\",\n",
        "        \"medication_count\": 7,\n",
        "        \"length_of_stay\": 15,\n",
        "        \"discharge_destination\": \"Other\"\n",
        "    }\n",
        "])"
      ],
      "metadata": {
        "id": "5oPMhzZ5mOcG"
      },
      "execution_count": null,
      "outputs": []
    },
    {
      "cell_type": "markdown",
      "source": [
        "**Preprocess Blood Pressure for Sample Data**"
      ],
      "metadata": {
        "id": "WrV2OTOfUXrR"
      }
    },
    {
      "cell_type": "code",
      "source": [
        "# --- Preprocess sample data (mirroring training preprocessing) ---\n",
        "\n",
        "# Process blood pressure\n",
        "sample_patients['systolic'] = sample_patients['blood_pressure'].map(lambda x: int(x.split('/')[0]))\n",
        "sample_patients['diastolic'] = sample_patients['blood_pressure'].map(lambda x: int(x.split('/')[1]))\n",
        "sample_patients['pulse_pressure'] = sample_patients['systolic'] - sample_patients['diastolic']\n",
        "sample_patients.drop(columns=[\"blood_pressure\"], inplace=True)"
      ],
      "metadata": {
        "id": "1pCfLKhfmUjz"
      },
      "execution_count": null,
      "outputs": []
    },
    {
      "cell_type": "markdown",
      "source": [
        "**BMI Categories for Sample Data**"
      ],
      "metadata": {
        "id": "EmTstNhrUmCb"
      }
    },
    {
      "cell_type": "code",
      "source": [
        "# Keep BMI continuous + add categories\n",
        "def bmi_category(bmi):\n",
        "    bmi = float(bmi)\n",
        "    if bmi < 18.5: return 0\n",
        "    elif 18.5 <= bmi <= 24.9: return 1\n",
        "    elif 25 <= bmi <= 29.9: return 2\n",
        "    else: return 3\n",
        "sample_patients['bmi_category'] = sample_patients['bmi'].map(bmi_category)"
      ],
      "metadata": {
        "id": "FK5Bx87qmZCS"
      },
      "execution_count": null,
      "outputs": []
    },
    {
      "cell_type": "markdown",
      "source": [
        "**High Cholesterol & Encode Categorical Variables**"
      ],
      "metadata": {
        "id": "tHa5d9Y3VaO2"
      }
    },
    {
      "cell_type": "code",
      "source": [
        "# Cholesterol (binary high risk)\n",
        "sample_patients['high_cholesterol'] = (sample_patients['cholesterol'].astype(float) > 200).astype(int)\n",
        "\n",
        "# Encode categorical variables\n",
        "sample_patients = pd.get_dummies(sample_patients, columns=['discharge_destination'], drop_first=True)"
      ],
      "metadata": {
        "id": "RaHvE1XAmh5a"
      },
      "execution_count": null,
      "outputs": []
    },
    {
      "cell_type": "markdown",
      "source": [
        "**Encode Remaining Categorical Variables**"
      ],
      "metadata": {
        "id": "HVlkOCymVoKX"
      }
    },
    {
      "cell_type": "code",
      "source": [
        "# Load original data to fit label encoders\n",
        "original_data = pd.read_csv(\"/content/MIMIC - III Patient Dataset.csv\")\n",
        "\n",
        "for col in ['gender', 'diabetes', 'hypertension']:\n",
        "    le = LabelEncoder()\n",
        "    # Fit on the original string labels from the training data\n",
        "    le.fit(original_data[col].astype(str))\n",
        "    sample_patients[col] = le.transform(sample_patients[col].astype(str))"
      ],
      "metadata": {
        "id": "Ns_O9z3dmryg"
      },
      "execution_count": null,
      "outputs": []
    },
    {
      "cell_type": "markdown",
      "source": [
        "**Feature Engineering for Sample Data**"
      ],
      "metadata": {
        "id": "rNWl-8yxV9TQ"
      }
    },
    {
      "cell_type": "code",
      "source": [
        "# Feature engineering\n",
        "sample_patients['high_risk_age'] = (sample_patients['age'] >= 70).astype(int)\n",
        "sample_patients['polypharmacy'] = (sample_patients['medication_count'] >= 5).astype(int)\n",
        "sample_patients['long_stay'] = (sample_patients['length_of_stay'] > 14).astype(int)\n",
        "sample_patients['multi_comorbidity'] = ((sample_patients['diabetes'] == 1) & (sample_patients['hypertension'] == 1)).astype(int)\n",
        "sample_patients['age_bmi'] = sample_patients['age'] * sample_patients['bmi']\n",
        "sample_patients['stay_meds'] = sample_patients['length_of_stay'] * sample_patients['medication_count']"
      ],
      "metadata": {
        "id": "Jhd6bQkZm3YM"
      },
      "execution_count": null,
      "outputs": []
    },
    {
      "cell_type": "markdown",
      "source": [
        "**Align Sample Data with Training Features**"
      ],
      "metadata": {
        "id": "cSM7AF-_V_ef"
      }
    },
    {
      "cell_type": "code",
      "source": [
        "# Align columns with training data\n",
        "# Get columns from X which was defined in the previous cell\n",
        "training_columns = X.columns\n",
        "sample_patients_aligned = sample_patients.reindex(columns=training_columns, fill_value=0)\n"
      ],
      "metadata": {
        "id": "-_FV2DJ8m5D_"
      },
      "execution_count": null,
      "outputs": []
    },
    {
      "cell_type": "markdown",
      "source": [
        "**Impute Missing Values in Sample Data**"
      ],
      "metadata": {
        "id": "ohsu0jWkWN6p"
      }
    },
    {
      "cell_type": "code",
      "source": [
        "# Apply imputer\n",
        "sample_patients_imputed = pd.DataFrame(\n",
        "    imputer.transform(sample_patients_aligned),\n",
        "    columns=training_columns\n",
        ")"
      ],
      "metadata": {
        "id": "7IoQLfK8m_iA"
      },
      "execution_count": null,
      "outputs": []
    },
    {
      "cell_type": "markdown",
      "source": [
        "**Scale Sample Data Features**"
      ],
      "metadata": {
        "id": "uMbumV3ZWqOr"
      }
    },
    {
      "cell_type": "code",
      "source": [
        "# Scale the features\n",
        "sample_patients_scaled = pd.DataFrame(\n",
        "    scaler.transform(sample_patients_imputed),\n",
        "    columns=training_columns\n",
        ")"
      ],
      "metadata": {
        "id": "-f-_aMDbnH4L"
      },
      "execution_count": null,
      "outputs": []
    },
    {
      "cell_type": "markdown",
      "source": [
        "**Make Predictions on Sample Patients**"
      ],
      "metadata": {
        "id": "OQ1Zkjn2Wuxf"
      }
    },
    {
      "cell_type": "code",
      "source": [
        "# Make predictions\n",
        "sample_predictions = cat_model.predict(sample_patients_scaled)\n",
        "sample_proba = cat_model.predict_proba(sample_patients_scaled)[:, 1]"
      ],
      "metadata": {
        "id": "sioTkOmqnI_A"
      },
      "execution_count": null,
      "outputs": []
    },
    {
      "cell_type": "markdown",
      "source": [
        "**Display Prediction Results**"
      ],
      "metadata": {
        "id": "IMjiIv88W5RI"
      }
    },
    {
      "cell_type": "code",
      "source": [
        "# Print results\n",
        "print(\"Predictions for sample patients:\")\n",
        "for i, (pred, prob) in enumerate(zip(sample_predictions, sample_proba), start=1):\n",
        "    print(f\"Patient {i}: Prediction = {'Readmit' if pred == 1 else 'No Readmission'}, \"\n",
        "          f\"Probability = {prob:.2f}\")"
      ],
      "metadata": {
        "colab": {
          "base_uri": "https://localhost:8080/"
        },
        "id": "O4txVkepnRiF",
        "outputId": "fa0e094a-567a-4ef1-c975-58415355ec62"
      },
      "execution_count": null,
      "outputs": [
        {
          "output_type": "stream",
          "name": "stdout",
          "text": [
            "Predictions for sample patients:\n",
            "Patient 1: Prediction = Readmit, Probability = 0.86\n",
            "Patient 2: Prediction = No Readmission, Probability = 0.28\n",
            "Patient 3: Prediction = No Readmission, Probability = 0.30\n",
            "Patient 4: Prediction = Readmit, Probability = 0.74\n"
          ]
        }
      ]
    },
    {
      "cell_type": "markdown",
      "source": [
        "# **Evaluate and Compare Multiple Models**"
      ],
      "metadata": {
        "id": "P1wq-dQnXXqM"
      }
    },
    {
      "cell_type": "code",
      "source": [
        "from sklearn.linear_model import LogisticRegression\n",
        "from sklearn.tree import DecisionTreeClassifier\n",
        "from sklearn.ensemble import RandomForestClassifier, GradientBoostingClassifier\n",
        "from sklearn.metrics import precision_score, recall_score\n",
        "\n",
        "# Define models to compare\n",
        "models = {\n",
        "    \"Logistic Regression\": LogisticRegression(max_iter=1000, class_weight=\"balanced\"),\n",
        "    \"Decision Tree\": DecisionTreeClassifier(class_weight=\"balanced\", random_state=42),\n",
        "    \"Random Forest\": RandomForestClassifier(class_weight=\"balanced\", random_state=42),\n",
        "    \"Gradient Boosting\": GradientBoostingClassifier(random_state=42),\n",
        "    \"CatBoost\": cat_model  # already trained\n",
        "}\n",
        "\n",
        "results = {}\n",
        "\n",
        "for name, model in models.items():\n",
        "    if name != \"CatBoost\":  # CatBoost already trained\n",
        "        model.fit(X_train, y_train)\n",
        "        y_prob = model.predict_proba(X_test)[:, 1]\n",
        "        y_pred = (y_prob >= 0.5).astype(int)\n",
        "    else:\n",
        "        y_prob = cat_model.predict_proba(X_test)[:, 1]\n",
        "        y_pred = (y_prob >= 0.5).astype(int)\n",
        "\n",
        "    results[name] = {\n",
        "        \"Accuracy\": accuracy_score(y_test, y_pred),\n",
        "        \"Precision\": precision_score(y_test, y_pred, zero_division=0),\n",
        "        \"Recall\": recall_score(y_test, y_pred, zero_division=0),\n",
        "        \"F1 Score\": f1_score(y_test, y_pred),\n",
        "        \"ROC AUC\": roc_auc_score(y_test, y_prob)\n",
        "    }\n",
        "\n",
        "# Convert results into a DataFrame for comparison\n",
        "results_df = pd.DataFrame(results).T.sort_values(by=\"F1 Score\", ascending=False)\n",
        "print(\"Algorithm Comparison:\\n\")\n",
        "print(results_df)\n",
        "\n",
        "# Highlight best performing algorithm\n",
        "best_algo = results_df[\"F1 Score\"].idxmax()\n",
        "print(f\"\\n✅ Best Performing Algorithm: {best_algo} (chosen for prediction)\")\n"
      ],
      "metadata": {
        "colab": {
          "base_uri": "https://localhost:8080/"
        },
        "id": "98dCaNVJiq31",
        "outputId": "8e3f633c-1d18-4b7e-9528-a846dd29a61b"
      },
      "execution_count": null,
      "outputs": [
        {
          "output_type": "stream",
          "name": "stdout",
          "text": [
            "Algorithm Comparison:\n",
            "\n",
            "                     Accuracy  Precision    Recall  F1 Score   ROC AUC\n",
            "CatBoost             0.823167   0.711632  0.835467  0.768593  0.834051\n",
            "Gradient Boosting    0.819333   0.715789  0.806069  0.758252  0.832573\n",
            "Random Forest        0.812000   0.711696  0.781887  0.745142  0.833943\n",
            "Logistic Regression  0.731000   0.592454  0.752015  0.662766  0.797969\n",
            "Decision Tree        0.722500   0.610119  0.583215  0.596364  0.690605\n",
            "\n",
            "✅ Best Performing Algorithm: CatBoost (chosen for prediction)\n"
          ]
        }
      ]
    }
  ]
}